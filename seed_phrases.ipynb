{
 "cells": [
  {
   "cell_type": "code",
   "execution_count": null,
   "metadata": {},
   "outputs": [],
   "source": [
    "from sssmnemonic import recover_secret\n",
    "\n",
    "# Example shards (each would be a part of the seed phrase)\n",
    "shard_1 = \"abandon ability able about above absent absorb abstract absurd abuse access accident\"\n",
    "shard_2 = \"access accident across act action actor actress actual adapt add addict address\"\n",
    "\n",
    "# List of shards to input\n",
    "shards = [shard_1, shard_2]\n",
    "\n",
    "# Reconstruct the original seed phrase\n",
    "recovered_seed_phrase = recover_secret(shards)\n",
    "\n",
    "print(\"Recovered Seed Phrase:\", recovered_seed_phrase)\n"
   ]
  }
 ],
 "metadata": {
  "language_info": {
   "name": "python"
  }
 },
 "nbformat": 4,
 "nbformat_minor": 2
}
